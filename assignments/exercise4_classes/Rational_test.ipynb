{
 "cells": [
  {
   "cell_type": "markdown",
   "id": "e89bb0d8-71bc-4eb7-b3e5-8ee843a2f2c8",
   "metadata": {},
   "source": [
    "# Class 'Rational'"
   ]
  },
  {
   "cell_type": "markdown",
   "id": "4a1863b3-81a6-456c-b6ce-1582c4ac942e",
   "metadata": {},
   "source": [
    "- Adding the path of the package to sys.path"
   ]
  },
  {
   "cell_type": "code",
   "execution_count": 1,
   "id": "4c452ec6-30ab-4102-9597-19d7974f14cc",
   "metadata": {},
   "outputs": [],
   "source": [
    "import sys\n",
    "import os\n",
    "\n",
    "# Add the path to rational_package directory dynamically\n",
    "current_dir = os.path.dirname(os.path.abspath(\"__file__\"))\n",
    "solutions_dir = os.path.join(current_dir, 'rational_package')\n",
    "\n",
    "sys.path.append(solutions_dir)"
   ]
  },
  {
   "cell_type": "code",
   "execution_count": 2,
   "id": "5ebfc2bf-7373-4006-ab7b-3c4a611dd1c2",
   "metadata": {},
   "outputs": [],
   "source": [
    "from rational_package.rational_class import Rational"
   ]
  },
  {
   "cell_type": "markdown",
   "id": "98f6a274-cafc-4221-bd53-1acf45db20bd",
   "metadata": {},
   "source": [
    "- The 'Rational' class accepts any real number as positional argument and convert it into fractional form with in the precison specified as keyword arguemnt (The default value = 1e^{-5})"
   ]
  },
  {
   "cell_type": "code",
   "execution_count": 3,
   "id": "b75da40e-f170-42fa-ad0e-e58743805963",
   "metadata": {},
   "outputs": [
    {
     "name": "stdout",
     "output_type": "stream",
     "text": [
      "<class 'rational_package.rational_class.Rational'>\n"
     ]
    }
   ],
   "source": [
    "x = Rational(0.12345)\n",
    "print(type(x))"
   ]
  },
  {
   "cell_type": "markdown",
   "id": "03fa9df0-01a9-49ab-9493-804c65eeedc2",
   "metadata": {},
   "source": [
    "- Overload of 'str' operator"
   ]
  },
  {
   "cell_type": "code",
   "execution_count": 4,
   "id": "b95dee0c-1e80-4a47-8e32-01026ce9a7bb",
   "metadata": {},
   "outputs": [
    {
     "name": "stdout",
     "output_type": "stream",
     "text": [
      "10/81\n"
     ]
    }
   ],
   "source": [
    "print(x)"
   ]
  },
  {
   "cell_type": "markdown",
   "id": "26f2cd58-02ef-415e-80c5-f1447c6c780e",
   "metadata": {},
   "source": [
    "- Overload of the string representation using 'repr' operator"
   ]
  },
  {
   "cell_type": "code",
   "execution_count": 5,
   "id": "27473a8d-b96e-4dd2-b3ab-45374e82a116",
   "metadata": {
    "scrolled": true
   },
   "outputs": [
    {
     "data": {
      "text/plain": [
       "'rational(0.12345679012345678, precision=1e-05)'"
      ]
     },
     "execution_count": 5,
     "metadata": {},
     "output_type": "execute_result"
    }
   ],
   "source": [
    "repr(x)"
   ]
  },
  {
   "cell_type": "code",
   "execution_count": 6,
   "id": "73596253-8c82-4858-87c0-53a0329868ff",
   "metadata": {},
   "outputs": [
    {
     "name": "stdout",
     "output_type": "stream",
     "text": [
      "True\n"
     ]
    }
   ],
   "source": [
    "print(abs(x - 0.12345) < 1e-5)"
   ]
  },
  {
   "cell_type": "markdown",
   "id": "53369c9a-21c8-4daf-8e08-16a3357bea52",
   "metadata": {},
   "source": [
    "- If we increase the precision, we get much more accurate rational expression for the input value"
   ]
  },
  {
   "cell_type": "code",
   "execution_count": 7,
   "id": "192b664d-90d6-4b90-93fa-fa6a0b8ad70d",
   "metadata": {},
   "outputs": [
    {
     "name": "stdout",
     "output_type": "stream",
     "text": [
      "2469/20000\n"
     ]
    }
   ],
   "source": [
    "x = Rational(0.12345, precision = 1e-10)\n",
    "print(x)"
   ]
  },
  {
   "cell_type": "code",
   "execution_count": 8,
   "id": "98a54ab8-acb7-4e1a-96cf-767bd0ca811f",
   "metadata": {},
   "outputs": [
    {
     "data": {
      "text/plain": [
       "'rational(0.12345, precision=1e-10)'"
      ]
     },
     "execution_count": 8,
     "metadata": {},
     "output_type": "execute_result"
    }
   ],
   "source": [
    "repr(x)"
   ]
  },
  {
   "cell_type": "markdown",
   "id": "a38905a7-e6b5-4b9f-bbab-e419a2531e57",
   "metadata": {},
   "source": [
    "- The precision must be between, 0 <= precision <= 1, else we get an error."
   ]
  },
  {
   "cell_type": "code",
   "execution_count": 9,
   "id": "96c723b9-3f6a-47f7-9459-56aaa4e5f63d",
   "metadata": {},
   "outputs": [
    {
     "name": "stdout",
     "output_type": "stream",
     "text": [
      "Error: precision must be between 0 and 1.\n"
     ]
    },
    {
     "ename": "SystemExit",
     "evalue": "1",
     "output_type": "error",
     "traceback": [
      "An exception has occurred, use %tb to see the full traceback.\n",
      "\u001b[31mSystemExit\u001b[39m\u001b[31m:\u001b[39m 1\n"
     ]
    },
    {
     "name": "stderr",
     "output_type": "stream",
     "text": [
      "/home/Athul/jupyter_env/lib/python3.12/site-packages/IPython/core/interactiveshell.py:3557: UserWarning: To exit: use 'exit', 'quit', or Ctrl-D.\n",
      "  warn(\"To exit: use 'exit', 'quit', or Ctrl-D.\", stacklevel=1)\n"
     ]
    }
   ],
   "source": [
    "x = Rational(0.12345, precision = 2)"
   ]
  },
  {
   "cell_type": "markdown",
   "id": "91840e08-ccfd-4b11-9547-e92614fe2fde",
   "metadata": {},
   "source": [
    "- Stroing the numerator and denominator separately"
   ]
  },
  {
   "cell_type": "code",
   "execution_count": 10,
   "id": "56e928f4-aff0-43f2-b619-a1e1c769eb7e",
   "metadata": {},
   "outputs": [
    {
     "name": "stdout",
     "output_type": "stream",
     "text": [
      "1 5\n"
     ]
    }
   ],
   "source": [
    "x = Rational(0.2)\n",
    "print(x.numerator, x.denominator)"
   ]
  },
  {
   "cell_type": "markdown",
   "id": "416e11ac-aae6-4834-9c2e-b3a8c50aebda",
   "metadata": {},
   "source": [
    "- For a negative number the sign is stored in the numerator"
   ]
  },
  {
   "cell_type": "code",
   "execution_count": 11,
   "id": "188194de-9ab4-4ce0-89e6-7d620aa9c750",
   "metadata": {},
   "outputs": [
    {
     "name": "stdout",
     "output_type": "stream",
     "text": [
      "-1 10\n"
     ]
    }
   ],
   "source": [
    "x = Rational(-0.1)\n",
    "print(x.numerator, x.denominator)"
   ]
  },
  {
   "cell_type": "markdown",
   "id": "98b68c88-0003-4e47-9cd7-002c988a143d",
   "metadata": {},
   "source": [
    "- Overload of the abs operator"
   ]
  },
  {
   "cell_type": "code",
   "execution_count": 12,
   "id": "9c035a57-24f8-4cef-8f18-be31f53a9870",
   "metadata": {},
   "outputs": [
    {
     "data": {
      "text/plain": [
       "rational(0.1, precision=1e-05)"
      ]
     },
     "execution_count": 12,
     "metadata": {},
     "output_type": "execute_result"
    }
   ],
   "source": [
    "abs(x)"
   ]
  },
  {
   "cell_type": "code",
   "execution_count": 13,
   "id": "c8ebbf96-09eb-41ec-892e-1282f6c9e7d6",
   "metadata": {},
   "outputs": [
    {
     "name": "stdout",
     "output_type": "stream",
     "text": [
      "<class 'rational_package.rational_class.Rational'>\n"
     ]
    }
   ],
   "source": [
    "print(type(abs(x)))"
   ]
  },
  {
   "cell_type": "markdown",
   "id": "f33c992f-ac4b-4cf5-893c-06642ed9471f",
   "metadata": {},
   "source": [
    "## Arithmatic operations"
   ]
  },
  {
   "cell_type": "markdown",
   "id": "e1391f08-f834-4880-83e9-df97e9bc6f9a",
   "metadata": {},
   "source": [
    "- Overload of the addition operator"
   ]
  },
  {
   "cell_type": "code",
   "execution_count": 14,
   "id": "1e5ddc3b-a587-4a71-b5bb-077186eedda7",
   "metadata": {},
   "outputs": [],
   "source": [
    "x1 = Rational(0.4) #2/5\n",
    "x2 = Rational(0.5) #1/2"
   ]
  },
  {
   "cell_type": "code",
   "execution_count": 15,
   "id": "fbfe8d57-9bbe-4b31-8dde-90385e9047da",
   "metadata": {},
   "outputs": [
    {
     "name": "stdout",
     "output_type": "stream",
     "text": [
      "9/10\n"
     ]
    }
   ],
   "source": [
    "x3 = x1+x2\n",
    "print(x3)"
   ]
  },
  {
   "cell_type": "markdown",
   "id": "873cdb21-d55c-4599-8189-eba49ddbac1b",
   "metadata": {},
   "source": [
    "- Overload of the multiplication operator"
   ]
  },
  {
   "cell_type": "code",
   "execution_count": 16,
   "id": "806b54d5-30ad-4fd9-b80c-4d123e3c9e62",
   "metadata": {},
   "outputs": [
    {
     "name": "stdout",
     "output_type": "stream",
     "text": [
      "1/5\n"
     ]
    }
   ],
   "source": [
    "x4 = x1*x2\n",
    "print(x4)"
   ]
  },
  {
   "cell_type": "markdown",
   "id": "9797566b-130d-47ac-afff-4ec6b12f40ae",
   "metadata": {},
   "source": [
    "- Overload of the division operator"
   ]
  },
  {
   "cell_type": "code",
   "execution_count": 17,
   "id": "2d864ce8-4da2-49c9-a375-da07bd93d55b",
   "metadata": {},
   "outputs": [
    {
     "name": "stdout",
     "output_type": "stream",
     "text": [
      "4/5\n"
     ]
    }
   ],
   "source": [
    "x5 = x1/x2\n",
    "print(x5)"
   ]
  },
  {
   "cell_type": "markdown",
   "id": "2d76c984-b5cf-49be-ae49-642d2d1cac8d",
   "metadata": {},
   "source": [
    "- Overload of the substraction operator"
   ]
  },
  {
   "cell_type": "code",
   "execution_count": 18,
   "id": "e51793a6-6cac-4840-b944-68a174db532d",
   "metadata": {},
   "outputs": [
    {
     "name": "stdout",
     "output_type": "stream",
     "text": [
      "-1/10\n"
     ]
    }
   ],
   "source": [
    "x6 = x1 - x2\n",
    "print(x6)"
   ]
  },
  {
   "cell_type": "markdown",
   "id": "cfd85d9c-9df0-4300-bd62-5cf0fc35f145",
   "metadata": {},
   "source": [
    "## Comparison operations"
   ]
  },
  {
   "cell_type": "markdown",
   "id": "8a915787-05e6-4632-8f32-89bd1274bd7a",
   "metadata": {},
   "source": [
    "- Overload of the equality operator"
   ]
  },
  {
   "cell_type": "code",
   "execution_count": 19,
   "id": "ee289b99-4dfc-47e4-8aa9-b6e42dc13c95",
   "metadata": {
    "scrolled": true
   },
   "outputs": [],
   "source": [
    "x1 = Rational(0.1)\n",
    "x2 = Rational(0.3)\n",
    "x3 = Rational(1/10)"
   ]
  },
  {
   "cell_type": "code",
   "execution_count": 20,
   "id": "f79ce301-97f0-459d-9822-8530f8cf87fd",
   "metadata": {},
   "outputs": [
    {
     "data": {
      "text/plain": [
       "False"
      ]
     },
     "execution_count": 20,
     "metadata": {},
     "output_type": "execute_result"
    }
   ],
   "source": [
    "x1 == x2 #x1 = 0.1, x2 = 0.3, x3 = 1/10"
   ]
  },
  {
   "cell_type": "code",
   "execution_count": 21,
   "id": "5cbbbf39-ef73-4686-a61b-157369ec2716",
   "metadata": {},
   "outputs": [
    {
     "data": {
      "text/plain": [
       "True"
      ]
     },
     "execution_count": 21,
     "metadata": {},
     "output_type": "execute_result"
    }
   ],
   "source": [
    "x1 == x3 #x1 = 0.1, x2 = 0.3, x3 = 1/10"
   ]
  },
  {
   "cell_type": "markdown",
   "id": "05936a35-0459-4411-b9fc-3e0d5e435683",
   "metadata": {},
   "source": [
    "- Overload of the 'greater than' and 'less than' operators"
   ]
  },
  {
   "cell_type": "code",
   "execution_count": 22,
   "id": "3025e16a-203b-4b4d-a70e-2bb5527d8e25",
   "metadata": {},
   "outputs": [
    {
     "data": {
      "text/plain": [
       "False"
      ]
     },
     "execution_count": 22,
     "metadata": {},
     "output_type": "execute_result"
    }
   ],
   "source": [
    "x1 > x2 #x1 = 0.1, x2 = 0.3, x3 = 1/10"
   ]
  },
  {
   "cell_type": "code",
   "execution_count": 23,
   "id": "a16d7496-c6eb-4ee7-bfce-5bd3e337a6bd",
   "metadata": {},
   "outputs": [
    {
     "data": {
      "text/plain": [
       "True"
      ]
     },
     "execution_count": 23,
     "metadata": {},
     "output_type": "execute_result"
    }
   ],
   "source": [
    "x1 < x2 #x1 = 0.1, x2 = 0.3, x3 = 1/10"
   ]
  },
  {
   "cell_type": "markdown",
   "id": "d8e8b6c2-4097-4494-a7c0-fcb0a8a0c33b",
   "metadata": {},
   "source": [
    "- Overload of the 'less than or equal to' and 'greater than or equal to' operators"
   ]
  },
  {
   "cell_type": "code",
   "execution_count": 24,
   "id": "dff5b5b5-e499-4ebd-a6c0-61bc38d91678",
   "metadata": {},
   "outputs": [
    {
     "data": {
      "text/plain": [
       "True"
      ]
     },
     "execution_count": 24,
     "metadata": {},
     "output_type": "execute_result"
    }
   ],
   "source": [
    "x1 <= x2 #x1 = 0.1, x2 = 0.3, x3 = 1/10"
   ]
  },
  {
   "cell_type": "code",
   "execution_count": 25,
   "id": "1233be1d-6e51-4449-b118-d4e72212e994",
   "metadata": {},
   "outputs": [
    {
     "data": {
      "text/plain": [
       "True"
      ]
     },
     "execution_count": 25,
     "metadata": {},
     "output_type": "execute_result"
    }
   ],
   "source": [
    "x1 <= x3 #x1 = 0.1, x2 = 0.3, x3 = 1/10"
   ]
  },
  {
   "cell_type": "code",
   "execution_count": 26,
   "id": "1cb460ac-c415-4eb6-ab6c-21c39b95828d",
   "metadata": {},
   "outputs": [
    {
     "data": {
      "text/plain": [
       "True"
      ]
     },
     "execution_count": 26,
     "metadata": {},
     "output_type": "execute_result"
    }
   ],
   "source": [
    "x1 >= x3 #x1 = 0.1, x2 = 0.3, x3 = 1/10"
   ]
  },
  {
   "cell_type": "code",
   "execution_count": 27,
   "id": "d31cdd6d-5c7a-4cda-b904-1067ce07bcd7",
   "metadata": {},
   "outputs": [
    {
     "data": {
      "text/plain": [
       "False"
      ]
     },
     "execution_count": 27,
     "metadata": {},
     "output_type": "execute_result"
    }
   ],
   "source": [
    "x1 >= x2 #x1 = 0.1, x2 = 0.3, x3 = 1/10"
   ]
  },
  {
   "cell_type": "markdown",
   "id": "166ced10-c495-45e2-b4f2-662cfb271683",
   "metadata": {},
   "source": [
    "## 'int' and 'float' values"
   ]
  },
  {
   "cell_type": "markdown",
   "id": "c6e950b3-ef29-45f2-9c05-e357c61bf518",
   "metadata": {},
   "source": [
    "- Overload of the 'int' and 'float' operators"
   ]
  },
  {
   "cell_type": "code",
   "execution_count": 28,
   "id": "ee903f06-d0bb-4261-b3bf-a899068c7ee6",
   "metadata": {},
   "outputs": [],
   "source": [
    "x = Rational(15/8)"
   ]
  },
  {
   "cell_type": "code",
   "execution_count": 29,
   "id": "7538521d-b852-40fb-8bfe-c0c5e045b06f",
   "metadata": {},
   "outputs": [
    {
     "data": {
      "text/plain": [
       "1"
      ]
     },
     "execution_count": 29,
     "metadata": {},
     "output_type": "execute_result"
    }
   ],
   "source": [
    "int(x)"
   ]
  },
  {
   "cell_type": "code",
   "execution_count": 30,
   "id": "127a04ad-a2cd-4fc6-acdd-2d5691133043",
   "metadata": {},
   "outputs": [
    {
     "data": {
      "text/plain": [
       "1.875"
      ]
     },
     "execution_count": 30,
     "metadata": {},
     "output_type": "execute_result"
    }
   ],
   "source": [
    "float(x)"
   ]
  },
  {
   "cell_type": "code",
   "execution_count": 31,
   "id": "dc0d0454-02e0-4d0f-9a64-0a8bd85930d7",
   "metadata": {},
   "outputs": [],
   "source": [
    "y = Rational(-20/7)"
   ]
  },
  {
   "cell_type": "code",
   "execution_count": 32,
   "id": "ce5ffb43-f589-4c23-8479-f49bb7508ebf",
   "metadata": {},
   "outputs": [
    {
     "data": {
      "text/plain": [
       "-2"
      ]
     },
     "execution_count": 32,
     "metadata": {},
     "output_type": "execute_result"
    }
   ],
   "source": [
    "int(y)"
   ]
  },
  {
   "cell_type": "code",
   "execution_count": 33,
   "id": "df668931-fe47-4529-9634-f78d804cd9fb",
   "metadata": {},
   "outputs": [
    {
     "data": {
      "text/plain": [
       "-2.857142857142857"
      ]
     },
     "execution_count": 33,
     "metadata": {},
     "output_type": "execute_result"
    }
   ],
   "source": [
    "float(y)"
   ]
  }
 ],
 "metadata": {
  "kernelspec": {
   "display_name": "Python 3 (ipykernel)",
   "language": "python",
   "name": "python3"
  },
  "language_info": {
   "codemirror_mode": {
    "name": "ipython",
    "version": 3
   },
   "file_extension": ".py",
   "mimetype": "text/x-python",
   "name": "python",
   "nbconvert_exporter": "python",
   "pygments_lexer": "ipython3",
   "version": "3.12.3"
  }
 },
 "nbformat": 4,
 "nbformat_minor": 5
}
